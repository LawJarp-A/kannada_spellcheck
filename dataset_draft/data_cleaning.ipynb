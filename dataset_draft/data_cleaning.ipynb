{
 "cells": [
  {
   "cell_type": "code",
   "execution_count": 38,
   "id": "d4df3666",
   "metadata": {},
   "outputs": [],
   "source": [
    "import pandas as pd\n",
    "import glob\n",
    "import re"
   ]
  },
  {
   "cell_type": "code",
   "execution_count": 22,
   "id": "dbd941e8",
   "metadata": {},
   "outputs": [],
   "source": [
    "path = '/home/lawjarp/PESU/kn_se/dataset_draft/books/*.txt'"
   ]
  },
  {
   "cell_type": "code",
   "execution_count": 23,
   "id": "da9c2f9e",
   "metadata": {},
   "outputs": [],
   "source": [
    "dirty_data = \"\""
   ]
  },
  {
   "cell_type": "code",
   "execution_count": 25,
   "id": "679ced95",
   "metadata": {
    "scrolled": true
   },
   "outputs": [],
   "source": [
    "for filename in glob.glob(path):\n",
    "    data = open(filename)\n",
    "    dirty_data += data.read()\n",
    "    data.close()"
   ]
  },
  {
   "cell_type": "code",
   "execution_count": 28,
   "id": "f0d29377",
   "metadata": {},
   "outputs": [
    {
     "data": {
      "text/plain": [
       "617901"
      ]
     },
     "execution_count": 28,
     "metadata": {},
     "output_type": "execute_result"
    }
   ],
   "source": [
    "# Wikipedia dataset has - 11450265 words\n",
    "len(dirty_data.split())"
   ]
  },
  {
   "cell_type": "code",
   "execution_count": 42,
   "id": "cd1cf9ea",
   "metadata": {},
   "outputs": [],
   "source": [
    "# Cleaning\n",
    "clean_data = re.sub('[0-9a-zA-Z]', '', dirty_data)"
   ]
  },
  {
   "cell_type": "code",
   "execution_count": 43,
   "id": "004aa7cd",
   "metadata": {},
   "outputs": [
    {
     "data": {
      "text/plain": [
       "510820"
      ]
     },
     "execution_count": 43,
     "metadata": {},
     "output_type": "execute_result"
    }
   ],
   "source": [
    "len(clean_data.split())"
   ]
  },
  {
   "cell_type": "code",
   "execution_count": 45,
   "id": "70b155e8",
   "metadata": {},
   "outputs": [],
   "source": [
    "#Output file\n",
    "output_file = open('cleaned_data.txt', 'w')"
   ]
  },
  {
   "cell_type": "code",
   "execution_count": 46,
   "id": "186ec716",
   "metadata": {},
   "outputs": [
    {
     "data": {
      "text/plain": [
       "3568439"
      ]
     },
     "execution_count": 46,
     "metadata": {},
     "output_type": "execute_result"
    }
   ],
   "source": [
    "output_file.write(clean_data)"
   ]
  },
  {
   "cell_type": "code",
   "execution_count": 47,
   "id": "eef3de09",
   "metadata": {},
   "outputs": [],
   "source": [
    "output_file.close()"
   ]
  },
  {
   "cell_type": "code",
   "execution_count": null,
   "id": "453c16d3",
   "metadata": {},
   "outputs": [],
   "source": []
  }
 ],
 "metadata": {
  "kernelspec": {
   "display_name": "Python 3 (ipykernel)",
   "language": "python",
   "name": "python3"
  },
  "language_info": {
   "codemirror_mode": {
    "name": "ipython",
    "version": 3
   },
   "file_extension": ".py",
   "mimetype": "text/x-python",
   "name": "python",
   "nbconvert_exporter": "python",
   "pygments_lexer": "ipython3",
   "version": "3.9.7"
  }
 },
 "nbformat": 4,
 "nbformat_minor": 5
}
