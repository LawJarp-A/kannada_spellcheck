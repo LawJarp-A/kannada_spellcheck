{
 "cells": [
  {
   "cell_type": "code",
   "execution_count": 1,
   "id": "00ddf9b4",
   "metadata": {},
   "outputs": [],
   "source": [
    "import pickle\n",
    "import spellcheck"
   ]
  },
  {
   "cell_type": "code",
   "execution_count": 2,
   "id": "5c15ed5e",
   "metadata": {},
   "outputs": [],
   "source": [
    "# Word freq pickle file path\n",
    "fw_path = './data/freq_word.pkl'\n",
    "# Letters pickle file path\n",
    "l_path = './data/letters.pkl'"
   ]
  },
  {
   "cell_type": "code",
   "execution_count": 3,
   "id": "7fd03443",
   "metadata": {},
   "outputs": [],
   "source": [
    "with (open(fw_path, \"rb\")) as openfile:\n",
    "    freq_word = pickle.load(openfile)"
   ]
  },
  {
   "cell_type": "code",
   "execution_count": 4,
   "id": "5d9d3da2",
   "metadata": {},
   "outputs": [],
   "source": [
    "with (open(l_path, \"rb\")) as openfile:\n",
    "    letters = pickle.load(openfile)"
   ]
  },
  {
   "cell_type": "code",
   "execution_count": 6,
   "id": "85c0b3ed",
   "metadata": {},
   "outputs": [],
   "source": [
    "sp_model = spellcheck.SpellChecker(freq_word, letters)"
   ]
  },
  {
   "cell_type": "code",
   "execution_count": 7,
   "id": "c679ea51",
   "metadata": {},
   "outputs": [],
   "source": [
    "def check(x, model):\n",
    "    return(model.P(x) > 0)"
   ]
  },
  {
   "cell_type": "code",
   "execution_count": 8,
   "id": "5928a1c8",
   "metadata": {},
   "outputs": [],
   "source": [
    "def check_and_correct(x, model):\n",
    "    if (not check(x, model)):\n",
    "        return model.correction(x)\n",
    "    else:\n",
    "        return None"
   ]
  },
  {
   "cell_type": "code",
   "execution_count": 9,
   "id": "42584d3d",
   "metadata": {},
   "outputs": [],
   "source": [
    "test_string = \"ಇದನ್ನು ಸ್ವರಗಳು, ಅನುಸ್ವಾ, ವಿರ್ಗ, ವ್ಯಂಜನಗು, ಅವರ್ಗೀಯ ವ್ಯಂಜನಗಳೆಂದು ವಿಭಾಗಿಸಲಾಗಿದೆ. ಕನ್ನ ಅಕ್ಷರಮಾಲೆಯನ್ನು ಕನ್ನಡ ವರ್ಣಮಾಲೆಯೆಂದು ಕರೆಯಲಾಗುತ್ತದೆ. ನಾವು ಮಾತನಾಡುವ ಮಾತುಗಳೆಲ್ಲ ವಾಕ್ಯ ವಾಕ್ಯಗಳಾಗಿರುತ್ತವೆ. ವಾಕ್ಯಗಳು ಪದಗಳಿಂದ ಕೂಡಿರುತ್ತವೆ. ಪದಗಳು ಅಕ್ಷರಗಳಿಂದ ಕೂಡಿರುತ್ತವೆ. ಉದಾಹರಣೆಗೆ, ನಾನು ಶಾಲೆಗೆ ಹೋಗಿ ಬರುವೆನು. ಈ ವಾಕ್ಯದಲ್ಲಿ ನಾನು, ಶಾಲೆಗೆ, ಹೋಗಿ, ಬರುವೆನು, ಹೀಗೆ ನಾಲ್ಕು ಪದಗಳಿವೆ. ಒಂದೊಂದು ಪದದಲ್ಲೂ ಹಲವು ಅಕ್ಷರಗಳಿವೆ. ನಾನು ಎಂಬ ಪದದಲ್ಲಿ ನ್+ಆ+ನ್+ಉ ಎಂಬ ಧ್ವನಿಮಾ ವ್ಯವಸ್ಥೆಯ ಬೇರೆ ಬೇರೆ ಅಕ್ಷರಗಳಿವೆ. ಹೀಗೆ ಕನ್ನಡ ಭಾಷೆಯನ್ನು ಮಾತನಾಡುವಾಗ ಬಳುವ ಅಕ್ಷರಗಳ ಮಾಲೆಗೆ ವರ್ಣಮಾಲೆ ಅಥವಾ ಅಕ್ಷರಮಾಲೆ ಎಂದು ಕರೆಯುತ್ತೇವೆ.\""
   ]
  },
  {
   "cell_type": "code",
   "execution_count": 10,
   "id": "f1eb87e9",
   "metadata": {},
   "outputs": [
    {
     "name": "stdout",
     "output_type": "stream",
     "text": [
      "None\n",
      "None\n",
      "ಅನುಸ್ವಾರ,\n",
      "ವರ್ಗ,\n",
      "ವ್ಯಂಜನಗಳು,\n",
      "None\n",
      "None\n",
      "None\n",
      "None\n",
      "None\n",
      "None\n",
      "None\n",
      "None\n",
      "None\n",
      "None\n",
      "None\n",
      "None\n",
      "None\n",
      "None\n",
      "None\n",
      "None\n",
      "None\n",
      "None\n",
      "None\n",
      "None\n",
      "None\n",
      "None\n",
      "None\n",
      "None\n",
      "None\n",
      "None\n",
      "None\n",
      "None\n",
      "None\n",
      "None\n",
      "None\n",
      "None\n",
      "None\n",
      "None\n",
      "None\n",
      "None\n",
      "None\n",
      "None\n",
      "None\n",
      "None\n",
      "None\n",
      "None\n",
      "None\n",
      "None\n",
      "None\n",
      "None\n",
      "None\n",
      "None\n",
      "None\n",
      "None\n",
      "None\n",
      "ಬರುವ\n",
      "None\n",
      "None\n",
      "None\n",
      "None\n",
      "None\n",
      "None\n",
      "None\n"
     ]
    }
   ],
   "source": [
    "for word in test_string.split():\n",
    "    print(check_and_correct(word, sp_model))"
   ]
  },
  {
   "cell_type": "code",
   "execution_count": null,
   "id": "8e2ec05b",
   "metadata": {},
   "outputs": [],
   "source": []
  }
 ],
 "metadata": {
  "kernelspec": {
   "display_name": "mwpcapstone",
   "language": "python",
   "name": "python3"
  },
  "language_info": {
   "codemirror_mode": {
    "name": "ipython",
    "version": 3
   },
   "file_extension": ".py",
   "mimetype": "text/x-python",
   "name": "python",
   "nbconvert_exporter": "python",
   "pygments_lexer": "ipython3",
   "version": "3.10.6"
  },
  "vscode": {
   "interpreter": {
    "hash": "7edeb75eaa293831b923bcbf729b5bced9f95e36ab6003bfbf25306b59d52404"
   }
  }
 },
 "nbformat": 4,
 "nbformat_minor": 5
}
